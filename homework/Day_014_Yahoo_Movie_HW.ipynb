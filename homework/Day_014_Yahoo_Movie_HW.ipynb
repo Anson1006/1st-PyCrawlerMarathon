{
 "cells": [
  {
   "cell_type": "markdown",
   "metadata": {},
   "source": [
    "# YAHOO電影爬蟲練習\n",
    "## 練習爬取電影放映資訊。必須逐步獲取電影的代號、放映地區、放映日期後，再送出查詢給伺服器。"
   ]
  },
  {
   "cell_type": "code",
   "execution_count": 40,
   "metadata": {},
   "outputs": [],
   "source": [
    "import requests\n",
    "import re\n",
    "from bs4 import BeautifulSoup"
   ]
  },
  {
   "cell_type": "markdown",
   "metadata": {},
   "source": [
    "### 先搜尋全部的電影代號(ID)資訊"
   ]
  },
  {
   "cell_type": "code",
   "execution_count": 41,
   "metadata": {},
   "outputs": [
    {
     "name": "stdout",
     "output_type": "stream",
     "text": [
      "Movie: 逃出夢幻島, ID: 10485\n",
      "Movie: 雨天．紐約, ID: 10476\n",
      "Movie: 戰慄魔胎, ID: 10471\n",
      "Movie: 殺不了的他與死不了的她, ID: 10467\n",
      "Movie: 失控少年兵團, ID: 10456\n",
      "Movie: 超＂人＂氣動物園, ID: 10445\n",
      "Movie: 就愛斷捨離, ID: 10436\n",
      "Movie: 全境失控, ID: 10426\n",
      "Movie: 謎夜拼圖, ID: 10418\n",
      "Movie: 尋愛夢工廠, ID: 10400\n",
      "Movie: 愛情人形, ID: 10394\n",
      "Movie: 我的寶貝男孩, ID: 10489\n",
      "Movie: 我們的相愛時光, ID: 10460\n",
      "Movie: 蜜蜂與遠雷, ID: 10419\n",
      "Movie: 電影版 輝夜姬想讓人告白～天才們的戀愛頭腦戰～, ID: 10405\n",
      "Movie: 古曼童, ID: 10399\n",
      "Movie: 猛禽小隊：小丑女大解放, ID: 10268\n",
      "Movie: 鬼魅之家, ID: 10459\n",
      "Movie: 熱帶雨, ID: 10448\n",
      "Movie: 只想受到你的歡迎, ID: 10411\n",
      "Movie: 紅鞋公主與七矮人, ID: 10417\n",
      "Movie: 黑水風暴, ID: 10398\n",
      "Movie: 1917, ID: 10189\n",
      "Movie: 肥龍過江, ID: 10449\n",
      "Movie: 你的情歌, ID: 10407\n",
      "Movie: 紳士追殺令, ID: 10317\n",
      "Movie: 杜立德, ID: 10316\n",
      "Movie: 深海終劫站, ID: 10230\n",
      "Movie: 她們, ID: 10202\n",
      "Movie: 變身特務, ID: 9008\n",
      "Movie: 然後我們跳了舞, ID: 10451\n",
      "Movie: 在黑暗中漫舞：20週年數位修復版, ID: 10428\n",
      "Movie: 不完美的正義, ID: 10243\n",
      "Movie: 絕地戰警FOR LIFE, ID: 10242\n",
      "Movie: 星星知我心, ID: 10409\n",
      "Movie: 重磅腥聞, ID: 10320\n",
      "Movie: 兔嘲男孩, ID: 10283\n",
      "Movie: 吹哨人, ID: 10381\n",
      "Movie: 潛艦追緝, ID: 10333\n",
      "Movie: 白頭山：半島浩劫, ID: 10354\n",
      "Movie: 怨靈古堡, ID: 10356\n",
      "Movie: 茱蒂, ID: 10112\n",
      "Movie: 燃燒女子的畫像, ID: 10069\n",
      "Movie: 黑計畫, ID: 10351\n",
      "Movie: 8級警戒, ID: 10323\n",
      "Movie: 大說謊家, ID: 10122\n",
      "Movie: 布魯克林孤兒, ID: 10224\n",
      "Movie: 暴走曼哈頓, ID: 10044\n",
      "Movie: 賽道狂人, ID: 10097\n",
      "Movie: 82年生的金智英, ID: 10298\n",
      "Movie: 冰雪奇緣2, ID: 9597\n",
      "Movie: 萬萬沒想到, ID: 10281\n",
      "Movie: 救火奶爸, ID: 10164\n",
      "Movie: 決戰中途島, ID: 10130\n",
      "Movie: 安眠醫生, ID: 10098\n",
      "Movie: 魔鬼終結者：黑暗宿命, ID: 10067\n",
      "Movie: 絕鯊47：猛鯊出籠, ID: 10214\n",
      "Movie: 陪你很久很久, ID: 10160\n",
      "Movie: 雙子殺手, ID: 10017\n",
      "Movie: 黑魔女2, ID: 10262\n",
      "Movie: 江湖無難事, ID: 10241\n",
      "Movie: 小丑, ID: 9949\n",
      "Movie: 無間行動, ID: 10155\n",
      "Movie: 囧媽的極地任務, ID: 7772\n",
      "Movie: 返校, ID: 10109\n",
      "Movie: 天氣之子, ID: 10091\n",
      "Movie: 亂世佳人, ID: 10170\n",
      "Movie: 從前，有個好萊塢, ID: 9884\n",
      "Movie: 寄生上流, ID: 10020\n",
      "Movie: 一首搖滾上月球, ID: 4887\n",
      "Movie: 錢不夠用2, ID: 3026\n"
     ]
    }
   ],
   "source": [
    "# 查看目前上映那些電影，並擷取出其ID資訊\n",
    "url = 'https://movies.yahoo.com.tw/'\n",
    "resp = requests.get(url)\n",
    "resp.encoding = 'utf-8'\n",
    "\n",
    "soup = BeautifulSoup(resp.text, 'lxml')\n",
    "html = soup.find(\"select\", attrs={'name':'movie_id'})\n",
    "movie_item = html.find_all(\"option\", attrs={'data-name':re.compile('.*')})\n",
    "\n",
    "for p in movie_item:\n",
    "    print(\"Movie: %s, ID: %s\" % (p[\"data-name\"], p[\"value\"]))"
   ]
  },
  {
   "cell_type": "markdown",
   "metadata": {},
   "source": [
    "### 指定你有興趣的電影其ID，然後查詢其放映地區資訊。"
   ]
  },
  {
   "cell_type": "code",
   "execution_count": 42,
   "metadata": {},
   "outputs": [],
   "source": [
    "# 參考前一個步驟中擷取到的ID資訊，並指定ID\n",
    "movie_id = 10268"
   ]
  },
  {
   "cell_type": "code",
   "execution_count": 43,
   "metadata": {},
   "outputs": [
    {
     "name": "stdout",
     "output_type": "stream",
     "text": [
      "放映地區: 台北市, 代號(area_id): 28\n",
      "放映地區: 新北市, 代號(area_id): 8\n",
      "放映地區: 桃園, 代號(area_id): 16\n",
      "放映地區: 新竹, 代號(area_id): 20\n",
      "放映地區: 苗栗, 代號(area_id): 15\n",
      "放映地區: 台中, 代號(area_id): 2\n",
      "放映地區: 台南, 代號(area_id): 10\n",
      "放映地區: 高雄, 代號(area_id): 17\n"
     ]
    }
   ],
   "source": [
    "url = 'https://movies.yahoo.com.tw/api/v1/areas_by_movie_theater'\n",
    "payload = {'movie_id':str(movie_id)}\n",
    "\n",
    "# 模擬一個header\n",
    "headers = {\n",
    "    'authority': 'movies.yahoo.com.tw',\n",
    "    'method': 'GET',\n",
    "    'path': '/api/v1/areas_by_movie_theater?movie_id=' + str(movie_id),\n",
    "    'scheme': 'https',\n",
    "    'accept': 'application/json, text/javascript, */*; q=0.01',\n",
    "    'accept-encoding': 'gzip, deflate, br',\n",
    "    'accept-language': 'zh-TW,zh;q=0.9,en-US;q=0.8,en;q=0.7,zh-CN;q=0.6',\n",
    "    'cookie': 'rxx=9s3x2fws06.1g16irnc&v=1; _ga=GA1.3.2056742944.1551651301; GUC=AQEBAQFczFpdm0IfmwSB&s=AQAAACoo4N5D&g=XMsVBw; BX=4hkdk1decm57t&b=3&s=mr; _ga=GA1.4.2056742944.1551651301; nexagesuid=82843256dd234e8e91aa73f2062f8218; browsed_movie=eyJpdiI6IlJXWWtiSWJaZlNGK2MxQnhscnVUYWc9PSIsInZhbHVlIjoiMXRhMmVHRXRIeUNjc1RBWDJzdGYwbnlIQURmWGsrcjJSMzhkbkcraDNJVUNIZEZsbzU3amlFcVZ1NzlmazJrTGpoMjVrbHk1YmpoRENXaHZTOUw1TmI2ZTZVWHdOejZQZm16RmVuMWlHTTJLaTZLVFZZVkFOMDlTd1wvSGltcytJIiwibWFjIjoiZWQ2ZjA4MmVjZmZlYjlmNjJmYmY2NGMyMDI0Njc0NWViYjVkOWE2NDg0N2RhODMxZjBjZDhiMmJhZTc2MDZhYiJ9; avi=eyJpdiI6Im1NeWFJRlVRWDR1endEcGRGUGJUbVE9PSIsInZhbHVlIjoickRpU3JuUytmcGl6cjF5OW0rNU9iZz09IiwibWFjIjoiY2VmY2NkNzZmM2NhNjY5YzlkOTcyNjE5OGEyMzU0NWYxOTdmMDRkMDY3OWNmMmZjOTMxYjc5MjI5N2Q5NGE5MiJ9; cmp=t=1559391030&j=0; _gid=GA1.4.779543841.1559391031; XSRF-TOKEN=eyJpdiI6IkhpS2hGcDRQaHlmWUJmaHdSS2Q2bHc9PSIsInZhbHVlIjoiOUVoNFk4OHI1UUZmUWRtYXhza0MyWjJSTlhlZ3RnT0VGeVJPN2JuczVRMGRFdWt2OUlsamVKeHRobFwvcHBGM0dhU3VyMXNGTHlsb2dVM2l0U1hpUGxBPT0iLCJtYWMiOiJkZWU4YzJhNjAxMTY3MzE4Y2ExNWIxYmE1ZjE1YWZlZTlhOTcyYjc4M2RlZGY4ZWNjZDYyMTA2NGYwZGViMzc2In0%3D; m_s=eyJpdiI6InpsZHZ2Tk1BZ0dxaHhETml1RjBnUXc9PSIsInZhbHVlIjoiSkNGeHUranRoXC85bDFiaDhySTJqNkJRcWdjWUxjeVRJSHVYZ1wvd2d4bWJZUTUrSHVDM0lUcW5KNHdETFZ4T1lieU81OUhzc1VoUXhZcWk0UDZSQXVFdz09IiwibWFjIjoiYmJkMDJkMDhlODIzMzcyMWY4M2NmYWNjNGVlOWRjMDIwZmVmNzAyMjE3Yzg3ZGY3ODBkZWEzZTI4MTI5ZWNmOSJ9; _gat=1; nexagesd=10',\n",
    "    'dnt': '1',\n",
    "    'mv-authorization': '21835b082e15b91a69b3851eec7b31b82ce82afb',\n",
    "    'referer': 'https://movies.yahoo.com.tw/',\n",
    "    'user-agent': 'Mozilla/5.0 (Windows NT 10.0; Win64; x64) AppleWebKit/537.36 (KHTML, like Gecko) Chrome/74.0.3729.169 Safari/537.36',\n",
    "    'x-requested-with': 'XMLHttpRequest',\n",
    "}\n",
    "    \n",
    "resp = requests.get(url, params=payload, headers=headers)\n",
    "#print(resp.json())  # 若有需要，列印出json原始碼\n",
    "\n",
    "# 這裡回傳的格式是JSON格式的資料，要解析JSON擷取資料\n",
    "for p in resp.json():\n",
    "    print('放映地區: {0}, 代號(area_id): {1}'.format(p['title'], p['area_id']))"
   ]
  },
  {
   "cell_type": "markdown",
   "metadata": {},
   "source": [
    "### 指定你想要觀看的放映地區，查詢有上映電影的場次日期"
   ]
  },
  {
   "cell_type": "code",
   "execution_count": 44,
   "metadata": {},
   "outputs": [],
   "source": [
    "# 指定放映地區\n",
    "area_id = 8"
   ]
  },
  {
   "cell_type": "code",
   "execution_count": 45,
   "metadata": {},
   "outputs": [
    {
     "name": "stdout",
     "output_type": "stream",
     "text": [
      "二月 18\n",
      "二月 19\n",
      "二月 20\n",
      "二月 21\n",
      "二月 22\n"
     ]
    }
   ],
   "source": [
    "# 向網站發送請求\n",
    "url = 'https://movies.yahoo.com.tw/movietime_result.html'\n",
    "payload = {'movie_id':str(movie_id), 'area_id':str(area_id)}\n",
    "resp = requests.get(url, params=payload)\n",
    "resp.encoding = 'utf-8'\n",
    "\n",
    "soup = BeautifulSoup(resp.text, 'lxml')\n",
    "movie_date = soup.find_all(\"label\", attrs={'for':re.compile(\"date_[\\d]\")})\n",
    "\n",
    "# 列印播放日期\n",
    "for date in movie_date:\n",
    "    print(\"%s %s\" % (date.p.string, date.h3.string))"
   ]
  },
  {
   "cell_type": "markdown",
   "metadata": {},
   "source": [
    "### 最後指定觀看的日期，查詢並列印出放映的電影院、放映類型(數位、3D、IMAX 3D...)、放映時間等資訊。"
   ]
  },
  {
   "cell_type": "code",
   "execution_count": 46,
   "metadata": {},
   "outputs": [],
   "source": [
    "# 選定要觀看的日期\n",
    "date = \"2020-02-18\""
   ]
  },
  {
   "cell_type": "code",
   "execution_count": 47,
   "metadata": {},
   "outputs": [
    {
     "name": "stdout",
     "output_type": "stream",
     "text": [
      "[<ul class=\"area_time _c jq_area_time\" data-theater_name=\"板橋大遠百威秀影城\" data-theater_schedules=\"https://movies.yahoo.com.tw/theater_result.html/id=128\" data-theater_url=\"http://www.vscinemas.com.tw/\" id=\"theater_id_128\">\n",
      "<li class=\"adds\">\n",
      "<a href=\"https://movies.yahoo.com.tw/theater_result.html/id=128\">板橋大遠百威秀影城</a>\n",
      "<span>02-77386608</span>\n",
      "</li>\n",
      "<li class=\"taps\">\n",
      "<span class=\"tapR\">IMAX</span> </li>\n",
      "<li class=\"time _c\">\n",
      "<div class=\"input_picker jq_input_picker\">\n",
      "<input class=\"gabtn\" data-cinema=\"737ece862a0111e18e86000bdb90dba4\" data-date=\"1581955200\" data-ezding=\"ezding\" data-ga=\"['電影頁_時刻表', '電影頁_時刻表_場次', '猛禽小隊：小丑女大解放']\" data-movie=\"07b62de372b94b7c9928fc7e1a371e4e\" data-movie_date=\"02.18\" data-movie_time=\"10:25\" data-movie_title=\"猛禽小隊：小丑女大解放\" data-movie_type=\"IMAX\" data-session=\"ce909704eb2a444e93fed6a903d711d2\" data-time=\"1581992700\" id=\"72963634\" name=\"schedule_list\" type=\"radio\" value=\"2020-02-18 10:25:00\"/>\n",
      "<label class=\"select\" for=\"72963634\">10:25</label>\n",
      "<input class=\"gabtn\" data-cinema=\"737ece862a0111e18e86000bdb90dba4\" data-date=\"1581955200\" data-ezding=\"ezding\" data-ga=\"['電影頁_時刻表', '電影頁_時刻表_場次', '猛禽小隊：小丑女大解放']\" data-movie=\"07b62de372b94b7c9928fc7e1a371e4e\" data-movie_date=\"02.18\" data-movie_time=\"14:50\" data-movie_title=\"猛禽小隊：小丑女大解放\" data-movie_type=\"IMAX\" data-session=\"0c829316c43e4fa7855a86ca4e90542d\" data-time=\"1582008600\" id=\"72963637\" name=\"schedule_list\" type=\"radio\" value=\"2020-02-18 14:50:00\"/>\n",
      "<label class=\"select\" for=\"72963637\">14:50</label>\n",
      "<input class=\"gabtn\" data-cinema=\"737ece862a0111e18e86000bdb90dba4\" data-date=\"1581955200\" data-ezding=\"ezding\" data-ga=\"['電影頁_時刻表', '電影頁_時刻表_場次', '猛禽小隊：小丑女大解放']\" data-movie=\"07b62de372b94b7c9928fc7e1a371e4e\" data-movie_date=\"02.18\" data-movie_time=\"19:10\" data-movie_title=\"猛禽小隊：小丑女大解放\" data-movie_type=\"IMAX\" data-session=\"3d4d0626bd2d435b8039dd36dca2f15e\" data-time=\"1582024200\" id=\"72963641\" name=\"schedule_list\" type=\"radio\" value=\"2020-02-18 19:10:00\"/>\n",
      "<label class=\"select\" for=\"72963641\">19:10</label>\n",
      "<input class=\"gabtn\" data-cinema=\"737ece862a0111e18e86000bdb90dba4\" data-date=\"1581955200\" data-ezding=\"ezding\" data-ga=\"['電影頁_時刻表', '電影頁_時刻表_場次', '猛禽小隊：小丑女大解放']\" data-movie=\"07b62de372b94b7c9928fc7e1a371e4e\" data-movie_date=\"02.18\" data-movie_time=\"23:35\" data-movie_title=\"猛禽小隊：小丑女大解放\" data-movie_type=\"IMAX\" data-session=\"19472d95192b4f6c8edd2519cc1ca91e\" data-time=\"1582040100\" id=\"72963645\" name=\"schedule_list\" type=\"radio\" value=\"2020-02-18 23:35:00\"/>\n",
      "<label class=\"select\" for=\"72963645\">23:35</label>\n",
      "</div>\n",
      "</li>\n",
      "<li class=\"taps\">\n",
      "<span class=\"tapR\">數位</span> </li>\n",
      "<li class=\"time _c\">\n",
      "<div class=\"input_picker jq_input_picker\">\n",
      "<input class=\"gabtn\" data-cinema=\"737ece862a0111e18e86000bdb90dba4\" data-date=\"1581955200\" data-ezding=\"ezding\" data-ga=\"['電影頁_時刻表', '電影頁_時刻表_場次', '猛禽小隊：小丑女大解放']\" data-movie=\"6d75c9d7726842d88d6542d49a23f149\" data-movie_date=\"02.18\" data-movie_time=\"11:30\" data-movie_title=\"猛禽小隊：小丑女大解放\" data-movie_type=\"數位\" data-session=\"933cf69ea9ce496dabdba5d772be3f3c\" data-time=\"1581996600\" id=\"72963635\" name=\"schedule_list\" type=\"radio\" value=\"2020-02-18 11:30:00\"/>\n",
      "<label class=\"select\" for=\"72963635\">11:30</label>\n",
      "<input class=\"gabtn\" data-cinema=\"737ece862a0111e18e86000bdb90dba4\" data-date=\"1581955200\" data-ezding=\"ezding\" data-ga=\"['電影頁_時刻表', '電影頁_時刻表_場次', '猛禽小隊：小丑女大解放']\" data-movie=\"6d75c9d7726842d88d6542d49a23f149\" data-movie_date=\"02.18\" data-movie_time=\"13:40\" data-movie_title=\"猛禽小隊：小丑女大解放\" data-movie_type=\"數位\" data-session=\"25d2972b15e444d6914f51b0ab4ce3f4\" data-time=\"1582004400\" id=\"72963636\" name=\"schedule_list\" type=\"radio\" value=\"2020-02-18 13:40:00\"/>\n",
      "<label class=\"select\" for=\"72963636\">13:40</label>\n",
      "<input class=\"gabtn\" data-cinema=\"737ece862a0111e18e86000bdb90dba4\" data-date=\"1581955200\" data-ezding=\"ezding\" data-ga=\"['電影頁_時刻表', '電影頁_時刻表_場次', '猛禽小隊：小丑女大解放']\" data-movie=\"6d75c9d7726842d88d6542d49a23f149\" data-movie_date=\"02.18\" data-movie_time=\"15:50\" data-movie_title=\"猛禽小隊：小丑女大解放\" data-movie_type=\"數位\" data-session=\"d56ebd04dcd84b499221c7e1dd48e571\" data-time=\"1582012200\" id=\"72963638\" name=\"schedule_list\" type=\"radio\" value=\"2020-02-18 15:50:00\"/>\n",
      "<label class=\"select\" for=\"72963638\">15:50</label>\n",
      "<input class=\"gabtn\" data-cinema=\"737ece862a0111e18e86000bdb90dba4\" data-date=\"1581955200\" data-ezding=\"ezding\" data-ga=\"['電影頁_時刻表', '電影頁_時刻表_場次', '猛禽小隊：小丑女大解放']\" data-movie=\"6d75c9d7726842d88d6542d49a23f149\" data-movie_date=\"02.18\" data-movie_time=\"16:50\" data-movie_title=\"猛禽小隊：小丑女大解放\" data-movie_type=\"數位\" data-session=\"a09266ce64574ba2bd6a7c743f93c4c4\" data-time=\"1582015800\" id=\"72963639\" name=\"schedule_list\" type=\"radio\" value=\"2020-02-18 16:50:00\"/>\n",
      "<label class=\"select\" for=\"72963639\">16:50</label>\n",
      "<input class=\"gabtn\" data-cinema=\"737ece862a0111e18e86000bdb90dba4\" data-date=\"1581955200\" data-ezding=\"ezding\" data-ga=\"['電影頁_時刻表', '電影頁_時刻表_場次', '猛禽小隊：小丑女大解放']\" data-movie=\"6d75c9d7726842d88d6542d49a23f149\" data-movie_date=\"02.18\" data-movie_time=\"18:00\" data-movie_title=\"猛禽小隊：小丑女大解放\" data-movie_type=\"數位\" data-session=\"8d8b6c93faba435384f4d16bf4ad4e48\" data-time=\"1582020000\" id=\"72963640\" name=\"schedule_list\" type=\"radio\" value=\"2020-02-18 18:00:00\"/>\n",
      "<label class=\"select\" for=\"72963640\">18:00</label>\n",
      "<input class=\"gabtn\" data-cinema=\"737ece862a0111e18e86000bdb90dba4\" data-date=\"1581955200\" data-ezding=\"ezding\" data-ga=\"['電影頁_時刻表', '電影頁_時刻表_場次', '猛禽小隊：小丑女大解放']\" data-movie=\"6d75c9d7726842d88d6542d49a23f149\" data-movie_date=\"02.18\" data-movie_time=\"20:10\" data-movie_title=\"猛禽小隊：小丑女大解放\" data-movie_type=\"數位\" data-session=\"261eae833fa14adfbc6cbed3ab0b3ddc\" data-time=\"1582027800\" id=\"72963642\" name=\"schedule_list\" type=\"radio\" value=\"2020-02-18 20:10:00\"/>\n",
      "<label class=\"select\" for=\"72963642\">20:10</label>\n",
      "<input class=\"gabtn\" data-cinema=\"737ece862a0111e18e86000bdb90dba4\" data-date=\"1581955200\" data-ezding=\"ezding\" data-ga=\"['電影頁_時刻表', '電影頁_時刻表_場次', '猛禽小隊：小丑女大解放']\" data-movie=\"6d75c9d7726842d88d6542d49a23f149\" data-movie_date=\"02.18\" data-movie_time=\"21:20\" data-movie_title=\"猛禽小隊：小丑女大解放\" data-movie_type=\"數位\" data-session=\"d24429be14f44918b072bfab97007eeb\" data-time=\"1582032000\" id=\"72963643\" name=\"schedule_list\" type=\"radio\" value=\"2020-02-18 21:20:00\"/>\n",
      "<label class=\"select\" for=\"72963643\">21:20</label>\n",
      "<input class=\"gabtn\" data-cinema=\"737ece862a0111e18e86000bdb90dba4\" data-date=\"1581955200\" data-ezding=\"ezding\" data-ga=\"['電影頁_時刻表', '電影頁_時刻表_場次', '猛禽小隊：小丑女大解放']\" data-movie=\"6d75c9d7726842d88d6542d49a23f149\" data-movie_date=\"02.18\" data-movie_time=\"22:20\" data-movie_title=\"猛禽小隊：小丑女大解放\" data-movie_type=\"數位\" data-session=\"4c7f24b95d2c44298369e336d239ad80\" data-time=\"1582035600\" id=\"72963644\" name=\"schedule_list\" type=\"radio\" value=\"2020-02-18 22:20:00\"/>\n",
      "<label class=\"select\" for=\"72963644\">22:20</label>\n",
      "</div>\n",
      "</li>\n",
      "</ul>, <ul class=\"area_time _c jq_area_time\" data-theater_name=\"林口MITSUI OUTLET PARK威秀影城\" data-theater_schedules=\"https://movies.yahoo.com.tw/theater_result.html/id=193\" data-theater_url=\"http://www.vscinemas.com.tw/\" id=\"theater_id_193\">\n",
      "<li class=\"adds\">\n",
      "<a href=\"https://movies.yahoo.com.tw/theater_result.html/id=193\">林口MITSUI OUTLET PARK威秀影城</a>\n",
      "<span>02-26068099</span>\n",
      "</li>\n",
      "<li class=\"taps\">\n",
      "<span class=\"tapR\">數位</span> </li>\n",
      "<li class=\"time _c\">\n",
      "<div class=\"input_picker jq_input_picker\">\n",
      "<input class=\"gabtn\" data-cinema=\"73544d843cd311e69bb83d0f96c001c2\" data-date=\"1581955200\" data-ezding=\"ezding\" data-ga=\"['電影頁_時刻表', '電影頁_時刻表_場次', '猛禽小隊：小丑女大解放']\" data-movie=\"e60da1d0225545b2b500b987bb3d3a74\" data-movie_date=\"02.18\" data-movie_time=\"11:00\" data-movie_title=\"猛禽小隊：小丑女大解放\" data-movie_type=\"數位\" data-session=\"5d9b5b3ba756448f8270072ec32998b1\" data-time=\"1581994800\" id=\"72964124\" name=\"schedule_list\" type=\"radio\" value=\"2020-02-18 11:00:00\"/>\n",
      "<label class=\"select\" for=\"72964124\">11:00</label>\n",
      "<input class=\"gabtn\" data-cinema=\"73544d843cd311e69bb83d0f96c001c2\" data-date=\"1581955200\" data-ezding=\"ezding\" data-ga=\"['電影頁_時刻表', '電影頁_時刻表_場次', '猛禽小隊：小丑女大解放']\" data-movie=\"e60da1d0225545b2b500b987bb3d3a74\" data-movie_date=\"02.18\" data-movie_time=\"13:05\" data-movie_title=\"猛禽小隊：小丑女大解放\" data-movie_type=\"數位\" data-session=\"ecbf5064e5c948f9a11103d454d4d719\" data-time=\"1582002300\" id=\"72964125\" name=\"schedule_list\" type=\"radio\" value=\"2020-02-18 13:05:00\"/>\n",
      "<label class=\"select\" for=\"72964125\">13:05</label>\n",
      "<input class=\"gabtn\" data-cinema=\"73544d843cd311e69bb83d0f96c001c2\" data-date=\"1581955200\" data-ezding=\"ezding\" data-ga=\"['電影頁_時刻表', '電影頁_時刻表_場次', '猛禽小隊：小丑女大解放']\" data-movie=\"e60da1d0225545b2b500b987bb3d3a74\" data-movie_date=\"02.18\" data-movie_time=\"15:10\" data-movie_title=\"猛禽小隊：小丑女大解放\" data-movie_type=\"數位\" data-session=\"d94813d6e68d44e690a63b4adde891d1\" data-time=\"1582009800\" id=\"72964126\" name=\"schedule_list\" type=\"radio\" value=\"2020-02-18 15:10:00\"/>\n",
      "<label class=\"select\" for=\"72964126\">15:10</label>\n",
      "<input class=\"gabtn\" data-cinema=\"73544d843cd311e69bb83d0f96c001c2\" data-date=\"1581955200\" data-ezding=\"ezding\" data-ga=\"['電影頁_時刻表', '電影頁_時刻表_場次', '猛禽小隊：小丑女大解放']\" data-movie=\"e60da1d0225545b2b500b987bb3d3a74\" data-movie_date=\"02.18\" data-movie_time=\"17:15\" data-movie_title=\"猛禽小隊：小丑女大解放\" data-movie_type=\"數位\" data-session=\"3ec1afd5ee6b4cdfa9bce0e3706c1916\" data-time=\"1582017300\" id=\"72964127\" name=\"schedule_list\" type=\"radio\" value=\"2020-02-18 17:15:00\"/>\n",
      "<label class=\"select\" for=\"72964127\">17:15</label>\n",
      "<input class=\"gabtn\" data-cinema=\"73544d843cd311e69bb83d0f96c001c2\" data-date=\"1581955200\" data-ezding=\"ezding\" data-ga=\"['電影頁_時刻表', '電影頁_時刻表_場次', '猛禽小隊：小丑女大解放']\" data-movie=\"e60da1d0225545b2b500b987bb3d3a74\" data-movie_date=\"02.18\" data-movie_time=\"19:20\" data-movie_title=\"猛禽小隊：小丑女大解放\" data-movie_type=\"數位\" data-session=\"c427b9f1edbc4afdaca83667a3bc7931\" data-time=\"1582024800\" id=\"72964128\" name=\"schedule_list\" type=\"radio\" value=\"2020-02-18 19:20:00\"/>\n",
      "<label class=\"select\" for=\"72964128\">19:20</label>\n",
      "<input class=\"gabtn\" data-cinema=\"73544d843cd311e69bb83d0f96c001c2\" data-date=\"1581955200\" data-ezding=\"ezding\" data-ga=\"['電影頁_時刻表', '電影頁_時刻表_場次', '猛禽小隊：小丑女大解放']\" data-movie=\"e60da1d0225545b2b500b987bb3d3a74\" data-movie_date=\"02.18\" data-movie_time=\"21:30\" data-movie_title=\"猛禽小隊：小丑女大解放\" data-movie_type=\"數位\" data-session=\"bb472b72f65c4942802c3de752e4c81f\" data-time=\"1582032600\" id=\"72964129\" name=\"schedule_list\" type=\"radio\" value=\"2020-02-18 21:30:00\"/>\n",
      "<label class=\"select\" for=\"72964129\">21:30</label>\n",
      "</div>\n",
      "</li>\n",
      "</ul>]\n"
     ]
    }
   ],
   "source": [
    "# 向網站發送請求，獲取上映的電影院及時間資訊\n",
    "url = \"https://movies.yahoo.com.tw/ajax/pc/get_schedule_by_movie\"\n",
    "payload = {'movie_id':str(movie_id),\n",
    "           'date':date,\n",
    "           'area_id':str(area_id),\n",
    "           'theater_id':'',\n",
    "           'datetime':'',\n",
    "           'movie_type_id':''}\n",
    "\n",
    "resp = requests.get(url, params=payload)\n",
    "#print(resp.json()['view'])  # 若有需要，列印出json原始碼\n",
    "\n",
    "soup = BeautifulSoup(resp.json()['view'], 'lxml')\n",
    "html = soup.find_all(\"ul\", attrs={'data-theater_name':re.compile(\".*\")})\n",
    "print(html)"
   ]
  },
  {
   "cell_type": "code",
   "execution_count": 48,
   "metadata": {},
   "outputs": [
    {
     "name": "stdout",
     "output_type": "stream",
     "text": [
      "--------------------------------------------------------------------\n",
      "電影院：板橋大遠百威秀影城\n",
      "影片放映類型：IMAX\n",
      "時間表：['2020-02-18 10:25:00', '2020-02-18 14:50:00', '2020-02-18 19:10:00', '2020-02-18 23:35:00', '2020-02-18 11:30:00', '2020-02-18 13:40:00', '2020-02-18 15:50:00', '2020-02-18 16:50:00', '2020-02-18 18:00:00', '2020-02-18 20:10:00', '2020-02-18 21:20:00', '2020-02-18 22:20:00']\n",
      "--------------------------------------------------------------------\n",
      "電影院：林口MITSUI OUTLET PARK威秀影城\n",
      "影片放映類型：數位\n",
      "時間表：['2020-02-18 11:00:00', '2020-02-18 13:05:00', '2020-02-18 15:10:00', '2020-02-18 17:15:00', '2020-02-18 19:20:00', '2020-02-18 21:30:00']\n"
     ]
    }
   ],
   "source": [
    "'''\n",
    "\n",
    "  試著從上一步驟回傳的電影院資料中，擷取電影院名稱、影片放映類型以及時間表\n",
    "  \n",
    "  Your code here.\n",
    "\n",
    "'''\n",
    "for h in html:\n",
    "    print('--------------------------------------------------------------------')\n",
    "    print('電影院：{}'.format(h['data-theater_name']))\n",
    "    print('影片放映類型：{}'.format(h.find('span',class_='tapR').text))\n",
    "    print('時間表：{}'.format([d['value'] for d in h.find_all('input', class_='gabtn')]))"
   ]
  },
  {
   "cell_type": "code",
   "execution_count": null,
   "metadata": {},
   "outputs": [],
   "source": []
  }
 ],
 "metadata": {
  "kernelspec": {
   "display_name": "Python 3",
   "language": "python",
   "name": "python3"
  },
  "language_info": {
   "codemirror_mode": {
    "name": "ipython",
    "version": 3
   },
   "file_extension": ".py",
   "mimetype": "text/x-python",
   "name": "python",
   "nbconvert_exporter": "python",
   "pygments_lexer": "ipython3",
   "version": "3.6.5"
  }
 },
 "nbformat": 4,
 "nbformat_minor": 2
}
